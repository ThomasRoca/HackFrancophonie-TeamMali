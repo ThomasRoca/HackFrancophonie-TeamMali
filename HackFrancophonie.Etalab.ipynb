{
 "cells": [
  {
   "cell_type": "markdown",
   "metadata": {
    "slideshow": {
     "slide_type": "slide"
    }
   },
   "source": [
    "## 19 fev. 2016 [NUMA](https://paris.numa.co) - *Blog post* et script Python | [Hackfrancophonie](https://www.etalab.gouv.fr/hackfrancophonie-un-open-data-camp-autour-des-donnees-ouvertes-par-les-pays-francophones) \n",
    "\n",
    "Hackfrancophonie c'est un *open data camp* autour des données ouvertes par les pays francophones. Parce qu’elles deviennent le nouveau langage du 21ème siècle, les pays francophones, comme la France ou le Burkina Faso, ouvrent leurs données. Pour en révéler tout le potentiel, [Etalab](https://www.etalab.gouv.fr/) et [Open Data Burkina Faso](http://data.gov.bf/), en partenariat avec la [Banque mondiale](http://data.worldbank.org/), [CFI Medias](http://www.cfi.fr/) et le [Partenariat pour un gouvernement ouvert](http://www.opengovpartnership.org/), organisent le 19 février avec et au [NUMA](https://paris.numa.co/) (Paris) un open data camp: **#HackFrancophonie**. *Credit: [Claire-Marie Foulquier Gazagnes - Etalab](https://twitter.com/_cmfg)*<br>\n",
    "[Lire la suite...](https://www.etalab.gouv.fr/hackfrancophonie-un-open-data-camp-autour-des-donnees-ouvertes-par-les-pays-francophones)\n",
    "\n",
    "## <span style=\"color:#ff7b00\">Blog post de l'équipe &#9733; Ecole au Mali &#9733;</span>\n",
    "\n",
    "\n",
    "\n",
    "<img src=\"HackFrancophonie.png\"></img>\n",
    "\n",
    "### <span style=\"color:#ff7b00\">L'équipe *Ecole au Mali*:</span>\n",
    "\n",
    "[**Thomas Roca**](https://twitter.com/Thomas_Roca) (Agence Française de développement) & [**Romain Dorgueil**](http://romain.dorgueil.net/)<br>\n",
    "**Claire-lise Dubost**, [**Patrick Zougbede**](https://twitter.com/keyram10) (OECD-PARIS21), **Guillaume Huet**."
   ]
  },
  {
   "cell_type": "markdown",
   "metadata": {
    "slideshow": {
     "slide_type": "slide"
    }
   },
   "source": [
    "## Démarche:\n",
    "Dans ce *blog-post* nous décrivons le travail réalisé par l'équipe lors du hackathon. Nous présentons les données mises à disposition, les scripts développés pour les traiter ainsi que les premiers résultats auxquels nous sommes arrivés dans le temps imparti (quelques heures seulement).\n",
    "\n",
    "## Données disponibles:\n",
    "+ Nous utilisons les données fournies par **#HackFrancophonie** disponibles sur le [dossier GitHub](https://github.com/etalab/HackFrancophonie) de l'évenement\n",
    "+ En particulier des données sur les écoles au Mali [Liste des écoles au Mali](https://github.com/etalab/HackFrancophonie/wiki/Liste-des-%C3%A9coles-du-Mali) | [Télécharger les données](https://raw.githubusercontent.com/opendatamali/datasets/master/ecole-mali/MLI_schools.csv)\n",
    "+ Population au Mali (Census) de [Mali Data Atlas 2013](http://mali.opendataforafrica.org/bqrabjg/mali-data-atlas-26-april-2013) qui fourni l'information au niveau des Cercles (districts) | [Télécharger les données](https://raw.githubusercontent.com/ThomasRoca/data/master/PopulationDataMali.csv)\n",
    "+ Nous utilisons également des informations founies par [UN OCHA HDX platform](https://data.hdx.rwlabs.org/dataset/administrative-boundaries-cod-mli) sur les [*shapefiles* des Cercles au Mali](http://data.hdx.rwlabs.org/dataset/d2ec62bb-5a93-436d-8297-88b3ee9b6818/resource/986d42a2-dfa1-4317-aaa8-a1cb276ee5bd/download/mli-admnbnda-adm2-gov.zip)\n",
    "+ Outils utilisés: [Python 3.4](https://www.python.org/) et [CartoDB](http://www.cartodb.com)\n",
    "+ Les fichiers utilisés et produits sont disponibles sur: [Ecole Mali GitHub repository](https://github.com/ThomasRoca/HackFrancophonie-TeamMali)"
   ]
  },
  {
   "cell_type": "markdown",
   "metadata": {
    "slideshow": {
     "slide_type": "slide"
    }
   },
   "source": [
    "## Questions auxquelles nous allons essayer de répondre: \n",
    "+ les données ouvertes peuvent-elles permettre d'éclairer:\n",
    "    + la répartition géographique des écoles au Mali?\n",
    "    + d'éventuelles inégalités dans la distribution des écoles sur le territoire?\n",
    "    + des régions dans lesquelles on observerait un sous-effectif d'enseignants?"
   ]
  },
  {
   "cell_type": "markdown",
   "metadata": {
    "slideshow": {
     "slide_type": "slide"
    }
   },
   "source": [
    "## Limites et améliorations possibles\n",
    "+ Un nombre important d'écoles ne sont pas géolocalisées dans la base de données à laquelle nous avons eu accès.\n",
    "+ Des *crowed mappers* pourraient poursuivre le travail réalisé sur les données [Liste des écoles au Mali](https://github.com/etalab/HackFrancophonie/wiki/Liste-des-%C3%A9coles-du-Mali) et contribuer à géolocaliser les écoles qui ne le sont pas encore."
   ]
  },
  {
   "cell_type": "markdown",
   "metadata": {
    "slideshow": {
     "slide_type": "skip"
    }
   },
   "source": [
    "---\n",
    "\n",
    "## Début du script \n",
    "\n",
    "*NB.Ce blog-post contient le script [Python 3.4](https://www.python.org/) utilisé pour traiter les données et créer les visualisations. Les cartes que nous présentons ont été produites avec [CartoDB](https://cartodb.com/)*\n",
    "\n",
    "---"
   ]
  },
  {
   "cell_type": "markdown",
   "metadata": {
    "slideshow": {
     "slide_type": "skip"
    }
   },
   "source": [
    "# I./ Manipulation des données\n",
    "\n",
    "## I.1 Jeu de données sur les écoles"
   ]
  },
  {
   "cell_type": "code",
   "execution_count": 1,
   "metadata": {
    "collapsed": false,
    "slideshow": {
     "slide_type": "skip"
    }
   },
   "outputs": [
    {
     "data": {
      "text/html": [
       "<div style=\"max-height:1000px;max-width:1500px;overflow:auto;\">\n",
       "<table border=\"1\" class=\"dataframe\">\n",
       "  <thead>\n",
       "    <tr style=\"text-align: right;\">\n",
       "      <th></th>\n",
       "      <th>Région</th>\n",
       "      <th>AE</th>\n",
       "      <th>CAP</th>\n",
       "      <th>Cercle</th>\n",
       "      <th>Commune</th>\n",
       "      <th>NOM_ETABLISSEMENT</th>\n",
       "      <th>Localites</th>\n",
       "      <th>X</th>\n",
       "      <th>Y</th>\n",
       "      <th>CODE_ETABLISSEMENT</th>\n",
       "      <th>...</th>\n",
       "      <th>STATUT</th>\n",
       "      <th>PRESENCE_RESTAURANT</th>\n",
       "      <th>PRESENCE_LATRINES</th>\n",
       "      <th>LATRINES_FILLES_SEPAREES</th>\n",
       "      <th>NOMBRE_LATRINES</th>\n",
       "      <th>EAU_POTABLE</th>\n",
       "      <th>GARCONS</th>\n",
       "      <th>FILLES</th>\n",
       "      <th>TOTAL</th>\n",
       "      <th>NBRE ENSEIGNANTS</th>\n",
       "    </tr>\n",
       "  </thead>\n",
       "  <tbody>\n",
       "    <tr>\n",
       "      <th>0</th>\n",
       "      <td> BAMAKO</td>\n",
       "      <td> BAMAKO RIVE GAUCHE</td>\n",
       "      <td>     SEBENICORO</td>\n",
       "      <td> Bamako</td>\n",
       "      <td> COMMUNE IV</td>\n",
       "      <td>     ABDRAHAMANE DIALLO</td>\n",
       "      <td> NaN</td>\n",
       "      <td>      NaN</td>\n",
       "      <td>       NaN</td>\n",
       "      <td> 11073468</td>\n",
       "      <td>...</td>\n",
       "      <td>    Privé laïc</td>\n",
       "      <td> 0</td>\n",
       "      <td> 1</td>\n",
       "      <td> 0</td>\n",
       "      <td> 4</td>\n",
       "      <td>           1) robinet </td>\n",
       "      <td>  35</td>\n",
       "      <td>  29</td>\n",
       "      <td>  64</td>\n",
       "      <td> 9</td>\n",
       "    </tr>\n",
       "    <tr>\n",
       "      <th>1</th>\n",
       "      <td> BAMAKO</td>\n",
       "      <td> BAMAKO RIVE DROITE</td>\n",
       "      <td>        FALADIE</td>\n",
       "      <td> Bamako</td>\n",
       "      <td> COMMUNE VI</td>\n",
       "      <td>         ATTAHAZIBIATOU</td>\n",
       "      <td> NaN</td>\n",
       "      <td>      NaN</td>\n",
       "      <td>       NaN</td>\n",
       "      <td> 11074493</td>\n",
       "      <td>...</td>\n",
       "      <td>       Medersa</td>\n",
       "      <td> 0</td>\n",
       "      <td> 1</td>\n",
       "      <td> 0</td>\n",
       "      <td> 2</td>\n",
       "      <td> 5) pas de point d'eau</td>\n",
       "      <td>  26</td>\n",
       "      <td>  23</td>\n",
       "      <td>  49</td>\n",
       "      <td> 7</td>\n",
       "    </tr>\n",
       "    <tr>\n",
       "      <th>2</th>\n",
       "      <td> BAMAKO</td>\n",
       "      <td> BAMAKO RIVE DROITE</td>\n",
       "      <td>  KALABAN COURA</td>\n",
       "      <td> Bamako</td>\n",
       "      <td>  COMMUNE V</td>\n",
       "      <td>  ECOLE PRIVEE LAROUSSE</td>\n",
       "      <td> NaN</td>\n",
       "      <td>      NaN</td>\n",
       "      <td>       NaN</td>\n",
       "      <td> 11074981</td>\n",
       "      <td>...</td>\n",
       "      <td>    Privé laïc</td>\n",
       "      <td> 0</td>\n",
       "      <td> 1</td>\n",
       "      <td> 0</td>\n",
       "      <td> 2</td>\n",
       "      <td>           1) robinet </td>\n",
       "      <td> 118</td>\n",
       "      <td> 134</td>\n",
       "      <td> 252</td>\n",
       "      <td> 8</td>\n",
       "    </tr>\n",
       "    <tr>\n",
       "      <th>3</th>\n",
       "      <td> BAMAKO</td>\n",
       "      <td> BAMAKO RIVE GAUCHE</td>\n",
       "      <td>     SEBENICORO</td>\n",
       "      <td> Bamako</td>\n",
       "      <td> COMMUNE IV</td>\n",
       "      <td>           LA REFERENCE</td>\n",
       "      <td> NaN</td>\n",
       "      <td>      NaN</td>\n",
       "      <td>       NaN</td>\n",
       "      <td> 11073466</td>\n",
       "      <td>...</td>\n",
       "      <td>    Privé laïc</td>\n",
       "      <td> 0</td>\n",
       "      <td> 1</td>\n",
       "      <td> 1</td>\n",
       "      <td> 2</td>\n",
       "      <td> 5) pas de point d'eau</td>\n",
       "      <td>  19</td>\n",
       "      <td>  21</td>\n",
       "      <td>  40</td>\n",
       "      <td> 4</td>\n",
       "    </tr>\n",
       "    <tr>\n",
       "      <th>4</th>\n",
       "      <td> BAMAKO</td>\n",
       "      <td> BAMAKO RIVE DROITE</td>\n",
       "      <td> TOROKOROBOUGOU</td>\n",
       "      <td> Bamako</td>\n",
       "      <td>  COMMUNE V</td>\n",
       "      <td>      A.E.CO.DA [1er C]</td>\n",
       "      <td> NaN</td>\n",
       "      <td>-7.980433</td>\n",
       "      <td> 12.610233</td>\n",
       "      <td>   766677</td>\n",
       "      <td>...</td>\n",
       "      <td> Communautaire</td>\n",
       "      <td> 0</td>\n",
       "      <td> 1</td>\n",
       "      <td> 0</td>\n",
       "      <td> 5</td>\n",
       "      <td>           1) robinet </td>\n",
       "      <td> 494</td>\n",
       "      <td> 432</td>\n",
       "      <td> 926</td>\n",
       "      <td> 9</td>\n",
       "    </tr>\n",
       "  </tbody>\n",
       "</table>\n",
       "<p>5 rows × 22 columns</p>\n",
       "</div>"
      ],
      "text/plain": [
       "   Région                  AE             CAP  Cercle     Commune  \\\n",
       "0  BAMAKO  BAMAKO RIVE GAUCHE      SEBENICORO  Bamako  COMMUNE IV   \n",
       "1  BAMAKO  BAMAKO RIVE DROITE         FALADIE  Bamako  COMMUNE VI   \n",
       "2  BAMAKO  BAMAKO RIVE DROITE   KALABAN COURA  Bamako   COMMUNE V   \n",
       "3  BAMAKO  BAMAKO RIVE GAUCHE      SEBENICORO  Bamako  COMMUNE IV   \n",
       "4  BAMAKO  BAMAKO RIVE DROITE  TOROKOROBOUGOU  Bamako   COMMUNE V   \n",
       "\n",
       "        NOM_ETABLISSEMENT Localites         X          Y  CODE_ETABLISSEMENT  \\\n",
       "0      ABDRAHAMANE DIALLO       NaN       NaN        NaN            11073468   \n",
       "1          ATTAHAZIBIATOU       NaN       NaN        NaN            11074493   \n",
       "2   ECOLE PRIVEE LAROUSSE       NaN       NaN        NaN            11074981   \n",
       "3            LA REFERENCE       NaN       NaN        NaN            11073466   \n",
       "4       A.E.CO.DA [1er C]       NaN -7.980433  12.610233              766677   \n",
       "\n",
       "         ...                STATUT PRESENCE_RESTAURANT PRESENCE_LATRINES  \\\n",
       "0        ...            Privé laïc                   0                 1   \n",
       "1        ...               Medersa                   0                 1   \n",
       "2        ...            Privé laïc                   0                 1   \n",
       "3        ...            Privé laïc                   0                 1   \n",
       "4        ...         Communautaire                   0                 1   \n",
       "\n",
       "   LATRINES_FILLES_SEPAREES  NOMBRE_LATRINES            EAU_POTABLE  GARCONS  \\\n",
       "0                         0                4            1) robinet        35   \n",
       "1                         0                2  5) pas de point d'eau       26   \n",
       "2                         0                2            1) robinet       118   \n",
       "3                         1                2  5) pas de point d'eau       19   \n",
       "4                         0                5            1) robinet       494   \n",
       "\n",
       "  FILLES  TOTAL  NBRE ENSEIGNANTS  \n",
       "0     29     64                 9  \n",
       "1     23     49                 7  \n",
       "2    134    252                 8  \n",
       "3     21     40                 4  \n",
       "4    432    926                 9  \n",
       "\n",
       "[5 rows x 22 columns]"
      ]
     },
     "execution_count": 1,
     "metadata": {},
     "output_type": "execute_result"
    }
   ],
   "source": [
    "import pandas as pd\n",
    "import numpy as np\n",
    "\n",
    "#Loading dataset\n",
    "# To avoid dead link on original source, I hosted the data on my own github (https://raw.githubusercontent.com/opendatamali/datasets/master/ecole-mali/MLI_schools.csv)\n",
    "data_school=\"https://raw.githubusercontent.com/ThomasRoca/HackFrancophonie-TeamMali/master/MLI_schools.csv\"  \n",
    "dataset = pd.read_csv(data_school)\n",
    "\n",
    "#str.title capitalizes first letter\n",
    "dataset['Cercle'] = dataset['Cercle'].str.title() \n",
    "#print(dataset.columns)\n",
    "\n",
    "dataset.head()"
   ]
  },
  {
   "cell_type": "markdown",
   "metadata": {
    "slideshow": {
     "slide_type": "skip"
    }
   },
   "source": [
    "## Néttoyage des données\n",
    "+ Les données de population auxquelles nous avons accès donnent une information au niveau du *Cercle* (découpage administratif). \n",
    "+ Compte tenu du temps limité de l'exercie, nous allons utiliser uniquements les données suivantes:\n",
    "    + **cercle**: nom  du district\n",
    "    + **garcons**:nombre de garcons dans chaque école\n",
    "    + **filles**: nombre de filles dans chaque école\n",
    "    + **total**: nombre total d'enfants dans chaque école (= garcons + filles)\n",
    "    + **nbre_enseignants**: nombre d'enseignants dans chaque école "
   ]
  },
  {
   "cell_type": "code",
   "execution_count": 2,
   "metadata": {
    "collapsed": false,
    "slideshow": {
     "slide_type": "skip"
    }
   },
   "outputs": [
    {
     "data": {
      "text/html": [
       "<div style=\"max-height:1000px;max-width:1500px;overflow:auto;\">\n",
       "<table border=\"1\" class=\"dataframe\">\n",
       "  <thead>\n",
       "    <tr>\n",
       "      <th></th>\n",
       "      <th>GARCONS</th>\n",
       "      <th>FILLES</th>\n",
       "      <th>TOTAL</th>\n",
       "      <th>NBRE ENSEIGNANTS</th>\n",
       "    </tr>\n",
       "    <tr>\n",
       "      <th></th>\n",
       "      <th>sum</th>\n",
       "      <th>sum</th>\n",
       "      <th>sum</th>\n",
       "      <th>sum</th>\n",
       "    </tr>\n",
       "    <tr>\n",
       "      <th>Cercle</th>\n",
       "      <th></th>\n",
       "      <th></th>\n",
       "      <th></th>\n",
       "      <th></th>\n",
       "    </tr>\n",
       "  </thead>\n",
       "  <tbody>\n",
       "    <tr>\n",
       "      <th>Abeibara</th>\n",
       "      <td>    128</td>\n",
       "      <td>     55</td>\n",
       "      <td>    183</td>\n",
       "      <td>     8</td>\n",
       "    </tr>\n",
       "    <tr>\n",
       "      <th>Ansongo</th>\n",
       "      <td>   8944</td>\n",
       "      <td>   7381</td>\n",
       "      <td>  16325</td>\n",
       "      <td>   483</td>\n",
       "    </tr>\n",
       "    <tr>\n",
       "      <th>Bafoulabe</th>\n",
       "      <td>  21883</td>\n",
       "      <td>  14227</td>\n",
       "      <td>  36110</td>\n",
       "      <td>   903</td>\n",
       "    </tr>\n",
       "    <tr>\n",
       "      <th>Bamako</th>\n",
       "      <td> 236435</td>\n",
       "      <td> 232342</td>\n",
       "      <td> 468777</td>\n",
       "      <td> 13950</td>\n",
       "    </tr>\n",
       "    <tr>\n",
       "      <th>Banamba</th>\n",
       "      <td>  22830</td>\n",
       "      <td>  13530</td>\n",
       "      <td>  36360</td>\n",
       "      <td>   841</td>\n",
       "    </tr>\n",
       "  </tbody>\n",
       "</table>\n",
       "</div>"
      ],
      "text/plain": [
       "          GARCONS  FILLES   TOTAL NBRE ENSEIGNANTS\n",
       "              sum     sum     sum              sum\n",
       "Cercle                                            \n",
       "Abeibara      128      55     183                8\n",
       "Ansongo      8944    7381   16325              483\n",
       "Bafoulabe   21883   14227   36110              903\n",
       "Bamako     236435  232342  468777            13950\n",
       "Banamba     22830   13530   36360              841"
      ]
     },
     "execution_count": 2,
     "metadata": {},
     "output_type": "execute_result"
    }
   ],
   "source": [
    "#Keep only the variable we need\n",
    "dataset_school=dataset[['Cercle','GARCONS', 'FILLES', 'TOTAL', 'NBRE ENSEIGNANTS']]\n",
    "\n",
    "#Aggregate at the Cercle level\n",
    "dataset_school=dataset_school.groupby(['Cercle']).agg([np.sum])\n",
    "dataset_school.to_csv('dataset_school.csv')\n",
    "dataset_school.head()"
   ]
  },
  {
   "cell_type": "markdown",
   "metadata": {
    "slideshow": {
     "slide_type": "skip"
    }
   },
   "source": [
    "## I.2. Jeu de données sur la population"
   ]
  },
  {
   "cell_type": "code",
   "execution_count": 3,
   "metadata": {
    "collapsed": false,
    "slideshow": {
     "slide_type": "skip"
    }
   },
   "outputs": [
    {
     "data": {
      "text/html": [
       "<div style=\"max-height:1000px;max-width:1500px;overflow:auto;\">\n",
       "<table border=\"1\" class=\"dataframe\">\n",
       "  <thead>\n",
       "    <tr style=\"text-align: right;\">\n",
       "      <th></th>\n",
       "      <th>﻿Location</th>\n",
       "      <th>District</th>\n",
       "      <th>Cercle</th>\n",
       "      <th>Location frenchname</th>\n",
       "      <th>Ménages</th>\n",
       "      <th>Population résidente</th>\n",
       "      <th>Population résidente2 (Hommes)</th>\n",
       "      <th>Population résidente (Femelles)</th>\n",
       "    </tr>\n",
       "  </thead>\n",
       "  <tbody>\n",
       "    <tr>\n",
       "      <th>0</th>\n",
       "      <td> ML-1-KC</td>\n",
       "      <td> Kayes</td>\n",
       "      <td> Kayes Cercle</td>\n",
       "      <td>     Cercle De Kayes</td>\n",
       "      <td> 80763</td>\n",
       "      <td> 513172</td>\n",
       "      <td> 254777</td>\n",
       "      <td> 258395</td>\n",
       "    </tr>\n",
       "    <tr>\n",
       "      <th>1</th>\n",
       "      <td> ML-1-BA</td>\n",
       "      <td> Kayes</td>\n",
       "      <td>    Bafoulabé</td>\n",
       "      <td> Cercle De Bafoulabe</td>\n",
       "      <td> 35266</td>\n",
       "      <td> 233647</td>\n",
       "      <td> 119040</td>\n",
       "      <td> 114607</td>\n",
       "    </tr>\n",
       "    <tr>\n",
       "      <th>2</th>\n",
       "      <td> ML-1-KI</td>\n",
       "      <td> Kayes</td>\n",
       "      <td>         Kita</td>\n",
       "      <td>      Cercle De Kita</td>\n",
       "      <td> 62129</td>\n",
       "      <td> 432531</td>\n",
       "      <td> 220318</td>\n",
       "      <td> 212213</td>\n",
       "    </tr>\n",
       "    <tr>\n",
       "      <th>3</th>\n",
       "      <td> ML-1-DI</td>\n",
       "      <td> Kayes</td>\n",
       "      <td>        Diéma</td>\n",
       "      <td>     Cercle De Diema</td>\n",
       "      <td> 32950</td>\n",
       "      <td> 211772</td>\n",
       "      <td> 109282</td>\n",
       "      <td> 102490</td>\n",
       "    </tr>\n",
       "    <tr>\n",
       "      <th>4</th>\n",
       "      <td> ML-1-KE</td>\n",
       "      <td> Kayes</td>\n",
       "      <td>      Keniéba</td>\n",
       "      <td>   Cercle De Kenieba</td>\n",
       "      <td> 33295</td>\n",
       "      <td> 197050</td>\n",
       "      <td>  98757</td>\n",
       "      <td>  98293</td>\n",
       "    </tr>\n",
       "  </tbody>\n",
       "</table>\n",
       "</div>"
      ],
      "text/plain": [
       "  ﻿Location District        Cercle  Location frenchname  Ménages  \\\n",
       "0   ML-1-KC    Kayes  Kayes Cercle      Cercle De Kayes    80763   \n",
       "1   ML-1-BA    Kayes     Bafoulabé  Cercle De Bafoulabe    35266   \n",
       "2   ML-1-KI    Kayes          Kita       Cercle De Kita    62129   \n",
       "3   ML-1-DI    Kayes         Diéma      Cercle De Diema    32950   \n",
       "4   ML-1-KE    Kayes       Keniéba    Cercle De Kenieba    33295   \n",
       "\n",
       "   Population résidente  Population résidente2 (Hommes)  \\\n",
       "0                513172                          254777   \n",
       "1                233647                          119040   \n",
       "2                432531                          220318   \n",
       "3                211772                          109282   \n",
       "4                197050                           98757   \n",
       "\n",
       "   Population résidente (Femelles)  \n",
       "0                           258395  \n",
       "1                           114607  \n",
       "2                           212213  \n",
       "3                           102490  \n",
       "4                            98293  "
      ]
     },
     "execution_count": 3,
     "metadata": {},
     "output_type": "execute_result"
    }
   ],
   "source": [
    "import pandas as pd\n",
    "import numpy as np\n",
    "\n",
    "#Load the data\n",
    "data_pop=\"https://raw.githubusercontent.com/ThomasRoca/HackFrancophonie-TeamMali/master/PopulationDataMali.csv\"\n",
    "dataset_pop = pd.read_csv(data_pop)\n",
    "dataset_pop.head()"
   ]
  },
  {
   "cell_type": "markdown",
   "metadata": {
    "slideshow": {
     "slide_type": "skip"
    }
   },
   "source": [
    "## Néttoyage des données\n",
    "+  Noms des disctricts: pour combiner les différents jeux de données il faut s'assurer que les noms des *Cercles* sont identiques:\n",
    "    + Supression de 'Cercle De' et 'District De'\n",
    "    + Majuscules utilisées uniquement pour les premiers mots\n",
    "    + vérifier/ insérer des tirets \"-\" pour les noms composés"
   ]
  },
  {
   "cell_type": "code",
   "execution_count": 4,
   "metadata": {
    "collapsed": false,
    "slideshow": {
     "slide_type": "skip"
    }
   },
   "outputs": [
    {
     "data": {
      "text/html": [
       "<div style=\"max-height:1000px;max-width:1500px;overflow:auto;\">\n",
       "<table border=\"1\" class=\"dataframe\">\n",
       "  <thead>\n",
       "    <tr style=\"text-align: right;\">\n",
       "      <th></th>\n",
       "      <th>Ménages</th>\n",
       "      <th>Population résidente</th>\n",
       "      <th>Population résidente2 (Hommes)</th>\n",
       "      <th>Population résidente (Femelles)</th>\n",
       "    </tr>\n",
       "    <tr>\n",
       "      <th>Location frenchname</th>\n",
       "      <th></th>\n",
       "      <th></th>\n",
       "      <th></th>\n",
       "      <th></th>\n",
       "    </tr>\n",
       "  </thead>\n",
       "  <tbody>\n",
       "    <tr>\n",
       "      <th>Abeibara</th>\n",
       "      <td>   1796</td>\n",
       "      <td>   10296</td>\n",
       "      <td>   4808</td>\n",
       "      <td>   5488</td>\n",
       "    </tr>\n",
       "    <tr>\n",
       "      <th>Ansongo</th>\n",
       "      <td>  21966</td>\n",
       "      <td>  131953</td>\n",
       "      <td>  65745</td>\n",
       "      <td>  66208</td>\n",
       "    </tr>\n",
       "    <tr>\n",
       "      <th>Bafoulabe</th>\n",
       "      <td>  35266</td>\n",
       "      <td>  233647</td>\n",
       "      <td> 119040</td>\n",
       "      <td> 114607</td>\n",
       "    </tr>\n",
       "    <tr>\n",
       "      <th>Bamako</th>\n",
       "      <td> 286381</td>\n",
       "      <td> 1810366</td>\n",
       "      <td> 902723</td>\n",
       "      <td> 907643</td>\n",
       "    </tr>\n",
       "    <tr>\n",
       "      <th>Banamba</th>\n",
       "      <td>  28278</td>\n",
       "      <td>  191005</td>\n",
       "      <td>  95901</td>\n",
       "      <td>  95104</td>\n",
       "    </tr>\n",
       "  </tbody>\n",
       "</table>\n",
       "</div>"
      ],
      "text/plain": [
       "                     Ménages  Population résidente  \\\n",
       "Location frenchname                                  \n",
       "Abeibara                1796                 10296   \n",
       "Ansongo                21966                131953   \n",
       "Bafoulabe              35266                233647   \n",
       "Bamako                286381               1810366   \n",
       "Banamba                28278                191005   \n",
       "\n",
       "                     Population résidente2 (Hommes)  \\\n",
       "Location frenchname                                   \n",
       "Abeibara                                       4808   \n",
       "Ansongo                                       65745   \n",
       "Bafoulabe                                    119040   \n",
       "Bamako                                       902723   \n",
       "Banamba                                       95901   \n",
       "\n",
       "                     Population résidente (Femelles)  \n",
       "Location frenchname                                   \n",
       "Abeibara                                        5488  \n",
       "Ansongo                                        66208  \n",
       "Bafoulabe                                     114607  \n",
       "Bamako                                        907643  \n",
       "Banamba                                        95104  "
      ]
     },
     "execution_count": 4,
     "metadata": {},
     "output_type": "execute_result"
    }
   ],
   "source": [
    "#Keep the variables we are interested in\n",
    "dataset_pop=dataset_pop[['Location frenchname','Ménages', 'Population résidente', 'Population résidente2 (Hommes)', \\\n",
    "                         'Population résidente (Femelles)']]\n",
    "\n",
    "#Suppress 'cercle de' in district names, and lower case  \n",
    "dataset_pop['Location frenchname'] = dataset_pop['Location frenchname'].str.title() \\\n",
    "                                    .str.replace('Cercle De ', '') \\\n",
    "                                    .str.replace('District De ', '') \\\n",
    "                                    .str.replace('Gourma Rharous', 'Gourma-Rharous') \\\n",
    "                                    .str.replace('Tin Essako', 'Tin-Essako')\n",
    "#Set index\n",
    "dataset_pop=dataset_pop.set_index(['Location frenchname']).dropna()\n",
    "dataset_pop.sort_index(inplace=True)\n",
    "dataset_pop.head()"
   ]
  },
  {
   "cell_type": "markdown",
   "metadata": {
    "slideshow": {
     "slide_type": "skip"
    }
   },
   "source": [
    "# Combiner les jeux de données\n",
    "+ Juxtaposer (*merge*) les données sur la population et celles sur les écoles\n",
    "+ renomer l'index et les colonnes"
   ]
  },
  {
   "cell_type": "code",
   "execution_count": 5,
   "metadata": {
    "collapsed": false,
    "slideshow": {
     "slide_type": "skip"
    }
   },
   "outputs": [],
   "source": [
    "#Merge population and school dataset\n",
    "dataset_final = pd.concat([dataset_pop, dataset_school], axis=1, )\n",
    "\n",
    "#rename columns\n",
    "dataset_final.columns = ['menage', 'population', 'population_h', 'population_fem', 'population_g', \\\n",
    "                         'population_fi', 'nb_eleves', 'nb_enseignants']\n",
    "#rename index\n",
    "dataset_final.index.names = ['cercle']"
   ]
  },
  {
   "cell_type": "markdown",
   "metadata": {
    "slideshow": {
     "slide_type": "skip"
    }
   },
   "source": [
    "# Effectuer quelques calculs\n",
    "+ En premier lieu il faut aggreger les données par Cercle, afin de pouvoir combiner les jeux de données (les données sur la population étant seuelement disponibles au niveau du Cercle)\n",
    "+ Nous calculons ensuite des moyennes et ratios."
   ]
  },
  {
   "cell_type": "code",
   "execution_count": 8,
   "metadata": {
    "collapsed": false,
    "slideshow": {
     "slide_type": "skip"
    }
   },
   "outputs": [
    {
     "name": "stdout",
     "output_type": "stream",
     "text": [
      "Nombre moyen d'enseignants par Cercles= 39.5737872364\n"
     ]
    },
    {
     "data": {
      "text/html": [
       "<div style=\"max-height:1000px;max-width:1500px;overflow:auto;\">\n",
       "<table border=\"1\" class=\"dataframe\">\n",
       "  <thead>\n",
       "    <tr style=\"text-align: right;\">\n",
       "      <th></th>\n",
       "      <th>menage</th>\n",
       "      <th>population</th>\n",
       "      <th>population_h</th>\n",
       "      <th>population_fem</th>\n",
       "      <th>population_g</th>\n",
       "      <th>population_fi</th>\n",
       "      <th>nb_eleves</th>\n",
       "      <th>nb_enseignants</th>\n",
       "      <th>ratio_h_fem</th>\n",
       "      <th>ratio_g_fi</th>\n",
       "      <th>eleves_par_ens</th>\n",
       "      <th>pop_par_ens</th>\n",
       "      <th>sous_effct_ens</th>\n",
       "      <th>binary_sous_effct</th>\n",
       "    </tr>\n",
       "    <tr>\n",
       "      <th>cercle</th>\n",
       "      <th></th>\n",
       "      <th></th>\n",
       "      <th></th>\n",
       "      <th></th>\n",
       "      <th></th>\n",
       "      <th></th>\n",
       "      <th></th>\n",
       "      <th></th>\n",
       "      <th></th>\n",
       "      <th></th>\n",
       "      <th></th>\n",
       "      <th></th>\n",
       "      <th></th>\n",
       "      <th></th>\n",
       "    </tr>\n",
       "  </thead>\n",
       "  <tbody>\n",
       "    <tr>\n",
       "      <th>Abeibara</th>\n",
       "      <td>   1796</td>\n",
       "      <td>   10296</td>\n",
       "      <td>   4808</td>\n",
       "      <td>   5488</td>\n",
       "      <td>    128</td>\n",
       "      <td>     55</td>\n",
       "      <td>    183</td>\n",
       "      <td>     8</td>\n",
       "      <td> 0.876093</td>\n",
       "      <td> 2.327273</td>\n",
       "      <td> 22.875000</td>\n",
       "      <td> 1287.000000</td>\n",
       "      <td>-16.698787</td>\n",
       "      <td> 0</td>\n",
       "    </tr>\n",
       "    <tr>\n",
       "      <th>Ansongo</th>\n",
       "      <td>  21966</td>\n",
       "      <td>  131953</td>\n",
       "      <td>  65745</td>\n",
       "      <td>  66208</td>\n",
       "      <td>   8944</td>\n",
       "      <td>   7381</td>\n",
       "      <td>  16325</td>\n",
       "      <td>   483</td>\n",
       "      <td> 0.993007</td>\n",
       "      <td> 1.211760</td>\n",
       "      <td> 33.799172</td>\n",
       "      <td>  273.194617</td>\n",
       "      <td> -5.774615</td>\n",
       "      <td> 0</td>\n",
       "    </tr>\n",
       "    <tr>\n",
       "      <th>Bafoulabe</th>\n",
       "      <td>  35266</td>\n",
       "      <td>  233647</td>\n",
       "      <td> 119040</td>\n",
       "      <td> 114607</td>\n",
       "      <td>  21883</td>\n",
       "      <td>  14227</td>\n",
       "      <td>  36110</td>\n",
       "      <td>   903</td>\n",
       "      <td> 1.038680</td>\n",
       "      <td> 1.538132</td>\n",
       "      <td> 39.988926</td>\n",
       "      <td>  258.745293</td>\n",
       "      <td>  0.415139</td>\n",
       "      <td> 1</td>\n",
       "    </tr>\n",
       "    <tr>\n",
       "      <th>Bamako</th>\n",
       "      <td> 286381</td>\n",
       "      <td> 1810366</td>\n",
       "      <td> 902723</td>\n",
       "      <td> 907643</td>\n",
       "      <td> 236435</td>\n",
       "      <td> 232342</td>\n",
       "      <td> 468777</td>\n",
       "      <td> 13950</td>\n",
       "      <td> 0.994579</td>\n",
       "      <td> 1.017616</td>\n",
       "      <td> 33.604086</td>\n",
       "      <td>  129.775341</td>\n",
       "      <td> -5.969701</td>\n",
       "      <td> 0</td>\n",
       "    </tr>\n",
       "    <tr>\n",
       "      <th>Banamba</th>\n",
       "      <td>  28278</td>\n",
       "      <td>  191005</td>\n",
       "      <td>  95901</td>\n",
       "      <td>  95104</td>\n",
       "      <td>  22830</td>\n",
       "      <td>  13530</td>\n",
       "      <td>  36360</td>\n",
       "      <td>   841</td>\n",
       "      <td> 1.008380</td>\n",
       "      <td> 1.687361</td>\n",
       "      <td> 43.234245</td>\n",
       "      <td>  227.116528</td>\n",
       "      <td>  3.660458</td>\n",
       "      <td> 1</td>\n",
       "    </tr>\n",
       "  </tbody>\n",
       "</table>\n",
       "</div>"
      ],
      "text/plain": [
       "           menage  population  population_h  population_fem  population_g  \\\n",
       "cercle                                                                      \n",
       "Abeibara     1796       10296          4808            5488           128   \n",
       "Ansongo     21966      131953         65745           66208          8944   \n",
       "Bafoulabe   35266      233647        119040          114607         21883   \n",
       "Bamako     286381     1810366        902723          907643        236435   \n",
       "Banamba     28278      191005         95901           95104         22830   \n",
       "\n",
       "           population_fi  nb_eleves  nb_enseignants  ratio_h_fem  ratio_g_fi  \\\n",
       "cercle                                                                         \n",
       "Abeibara              55        183               8     0.876093    2.327273   \n",
       "Ansongo             7381      16325             483     0.993007    1.211760   \n",
       "Bafoulabe          14227      36110             903     1.038680    1.538132   \n",
       "Bamako            232342     468777           13950     0.994579    1.017616   \n",
       "Banamba            13530      36360             841     1.008380    1.687361   \n",
       "\n",
       "           eleves_par_ens  pop_par_ens  sous_effct_ens  binary_sous_effct  \n",
       "cercle                                                                     \n",
       "Abeibara        22.875000  1287.000000      -16.698787                  0  \n",
       "Ansongo         33.799172   273.194617       -5.774615                  0  \n",
       "Bafoulabe       39.988926   258.745293        0.415139                  1  \n",
       "Bamako          33.604086   129.775341       -5.969701                  0  \n",
       "Banamba         43.234245   227.116528        3.660458                  1  "
      ]
     },
     "execution_count": 8,
     "metadata": {},
     "output_type": "execute_result"
    }
   ],
   "source": [
    "#ratio pupil teacher\n",
    "dataset_final['ratio_h_fem']=dataset_final['population_h']/dataset_final['population_fem']\n",
    "dataset_final['ratio_g_fi']=dataset_final['population_g']/dataset_final['population_fi']\n",
    "\n",
    "dataset_final['eleves_par_ens']=dataset_final['nb_eleves']/dataset_final['nb_enseignants']\n",
    "dataset_final['pop_par_ens']=dataset_final['population']/dataset_final['nb_enseignants']\n",
    "\n",
    "#Compute the spread from average number of student by teacher\n",
    "print(\"Nombre moyen d'enseignants par Cercles= \"+str(dataset_final['eleves_par_ens'].mean()))\n",
    "\n",
    "dataset_final['sous_effct_ens']=dataset_final['eleves_par_ens'] - dataset_final['eleves_par_ens'].mean()\n",
    "\n",
    "#Set a binary variable to identify region as 0 if sous_effct_ens <0 otherwise 1\n",
    "dataset_final['binary_sous_effct']=np.where(dataset_final['sous_effct_ens']<0, 0 , 1)\n",
    "dataset_final.to_csv('dataset_final.csv')\n",
    "dataset_final.head()"
   ]
  },
  {
   "cell_type": "markdown",
   "metadata": {
    "slideshow": {
     "slide_type": "skip"
    }
   },
   "source": [
    "# Une première visualisation des données avec *Highcharts*\n",
    "Le script suivant crée une visualisation interactive avec [Highcharts](http://www.highcharts.com). \n",
    "L'execution de ce script produit le *Bar Chart* présenté ci-après, ou bien [ici](http://stats4dev.com/dataviz/Bar_chart_HackFrancophonie.html)\n"
   ]
  },
  {
   "cell_type": "code",
   "execution_count": 9,
   "metadata": {
    "collapsed": false,
    "slideshow": {
     "slide_type": "skip"
    }
   },
   "outputs": [],
   "source": [
    "from IPython.display import HTML\n",
    "from string import Template\n",
    "import webbrowser\n",
    "#Get the data series to display\n",
    "dataset_viz=dataset_final[['eleves_par_ens','pop_par_ens']]\n",
    "\n",
    "Top5listP_P=[]\n",
    "Top5listP_P_cercle=[]\n",
    "Bottom5listP_P=[]\n",
    "Bottom5listP_P_cercle=[]\n",
    "\n",
    "dataset_viz=dataset_viz.sort(['pop_par_ens'], ascending=False)\n",
    "for i in range(0,5):\n",
    "    Top5listP_P.append(dataset_viz['pop_par_ens'][i])\n",
    "    Top5listP_P_cercle.append(dataset_viz.index.values[i])\n",
    "    \n",
    "dataset_viz=dataset_viz.sort(['pop_par_ens'])\n",
    "for i in range(0,5):\n",
    "    Bottom5listP_P.append(dataset_viz['pop_par_ens'][i])\n",
    "    Bottom5listP_P_cercle.append(dataset_viz.index.values[i])\n",
    "        \n",
    "#concatenate Top5 and Bottom 5 NB. as we got the bottom 5 by sort descending, we need to invert the bottom 5 list..\n",
    "inv_Bottom5listP_P=Bottom5listP_P\n",
    "inv_Bottom5listP_P.reverse()\n",
    "#Store the results in P_P_list\n",
    "P_P_list=Top5listP_P + inv_Bottom5listP_P\n",
    "#Same with Circle\n",
    "inv_Bottom5listP_P_cercle=Bottom5listP_P_cercle\n",
    "inv_Bottom5listP_P_cercle.reverse()\n",
    "P_P_cercle=Top5listP_P_cercle + inv_Bottom5listP_P_cercle\n",
    "\n",
    "#Get the value of 'pop_par_ens' for the cercle we display:\n",
    "E_E_list=[]\n",
    "for cercle in P_P_cercle:\n",
    "    E_E_list.append(dataset_viz['eleves_par_ens'][cercle])\n",
    "    \n",
    "#print(P_P_list,E_E_list,P_P_cercle)  \n",
    "\n",
    "Input = {'P_P_list':P_P_list,'E_E_list':E_E_list,'P_P_cercle':P_P_cercle }\n",
    "\n",
    "html='''\n",
    "<!DOCTYPE html>\n",
    "<html><head>\n",
    "<meta http-equiv=\"content-type\" content=\"text/html; charset=UTF-8\">\n",
    "<script type=\"text/javascript\" src=\"//code.jquery.com/jquery-1.9.1.js\"></script>\n",
    "<title></title>\n",
    "<script type='text/javascript'>\n",
    "$(function () {\n",
    "    $('#container').highcharts({\n",
    "        chart: {type: 'column'},\n",
    "        title: {text: \"Enseignants, habitants et eleves dans dix regions du Mali\"},\n",
    "        subtitle: { text: 'Source: opendata.ml, opendataforafrica'},\n",
    "        xAxis: {\n",
    "            categories: $P_P_cercle,\n",
    "            crosshair: true },\n",
    "        yAxis: { min: 0, itle: {text: 'Effectifs'}},\n",
    "        tooltip: {\n",
    "           valueDecimals: 0,\n",
    "            headerFormat: '<span style=\"font-size:10px\">{point.key}</span><table>',\n",
    "            pointFormat: '<tr><td style=\"color:{series.color};padding:0\">{series.name}: </td>' +\n",
    "                '<td style=\"padding:0\"><b>{point.y} </b></td></tr>',\n",
    "            footerFormat: '</table>', shared: true, useHTML: true },\n",
    "        plotOptions: { column: {pointPadding: 0.2, borderWidth: 0 }},\n",
    "       \n",
    "           series: [{\n",
    "            name: \"Nombre d'habitants pour un enseignant\",\n",
    "            data: $P_P_list,\n",
    "                color:'rgb(255, 123, 0)'\n",
    "        }, {\n",
    "            name: \"Nombre d'eleves pour un enseignant\",\n",
    "            data: $E_E_list,\n",
    "                visible:false,\n",
    "                color:'rgb(244, 186, 48)'\n",
    "        }] });});\n",
    "</script>\n",
    "</head><body>\n",
    "<script src=\"https://code.highcharts.com/highcharts.js\"></script>\n",
    "<script src=\"https://code.highcharts.com/modules/exporting.js\"></script>\n",
    "<div id=\"container\" style=\"min-width: 100%; height: 500px; margin: 0 auto\"></div>\n",
    " </body>\n",
    "</html>\n",
    "'''\n",
    "\n",
    "f = open(\"Bar_chart.html\",'w')\n",
    "content=Template(html).safe_substitute(Input)\n",
    "f.write(content)\n",
    "f.close()\n",
    "filename=\"Bar_chart.html\""
   ]
  },
  {
   "cell_type": "markdown",
   "metadata": {
    "slideshow": {
     "slide_type": "skip"
    }
   },
   "source": [
    "---\n",
    "### Début du *slideshow* ...\n",
    "\n",
    "*NB. Ce script est executable en version slide show - [lien vers présentation - slide show](http://nbviewer.jupyter.org/format/slides/github/ThomasRoca/HackFrancophonie-TeamMali/blob/master/HackFrancophonie.Etalab.ipynb)*\n",
    "\n",
    "---"
   ]
  },
  {
   "cell_type": "markdown",
   "metadata": {
    "slideshow": {
     "slide_type": "slide"
    }
   },
   "source": [
    "# 19 fev. 2016 NUMA - Python script | [Hackfrancophonie](https://www.etalab.gouv.fr/hackfrancophonie-un-open-data-camp-autour-des-donnees-ouvertes-par-les-pays-francophones) | Ecoles au Mali\n",
    "---\n",
    "\n",
    "<span style=\"color:#6A381B; font-size:45px; line-height:1.25; font-weight:bold;\" markdown=\"1\">Ecoles au Mali </span><span style=\"color:#ffb600; font-size:45px; line-height:1.5; font-weight:bold;\" markdown=\"1\" >où investir ?</span><br>\n",
    "<br>\n",
    "\n",
    "<img src=\"http://www.stats4dev.com/prez/EcoleMali2.jpg\">\n",
    "\n",
    "<br>\n",
    "<span style=\"font-size:16px; line-height:1.5; color:#ffb600; font-weight:bold\" markdown=\"1\" > &#9733; Claire-Lise, Guillaume, Patrick, Romain, Thomas &#9733;\n",
    "</span><br>\n",
    "<span style=\"font-size:16px; line-height:1.5; color:#6A381B; font-weight:bold\" markdown=\"1\" >\n",
    "Version Février 2016 - #HackFrancophonie </span>\n",
    "\n",
    "<img src=\"http://www.stats4dev.com/prez/logoX.png\">"
   ]
  },
  {
   "cell_type": "markdown",
   "metadata": {
    "slideshow": {
     "slide_type": "slide"
    }
   },
   "source": [
    "# Problématique\n",
    "\n",
    "Comment utiliser les données ouvertes du Mali pour identifier les zones géographiques dans \n",
    "lesquelles implanter des écoles et limiter les inégalités d’accès à l’éducation?\n",
    "\n",
    "## Contexte:\n",
    "\n",
    "+ **47,5%** de la population malienne a moins de 14ans \n",
    "\n",
    "+ **83,5%** des enfants sont inscrits à l’école primaire (Banque mondiale)\n",
    "\n",
    "+ Seulement **10%** de la population vit dans les trois régions du Nord, qui représentent les deux tiers de l’ensemble du territoire national. La faible densité de population dans ces régions pose des problèmes spécifiques en matière d’accès aux services, dont l’éducation \n",
    "\n"
   ]
  },
  {
   "cell_type": "markdown",
   "metadata": {
    "slideshow": {
     "slide_type": "slide"
    }
   },
   "source": [
    "## Première représentation\n",
    "+ Donner un avant goût de la distribution des enseignants, élèves et habitants au Mali, nous représentons le *Top5* et le *Bottom5* des régions (cercles) pour le nombre d'habitants et le nombre d'élèves pour un enseignants.\n",
    "\n",
    "*Attention: les données dont nous disposons ne sont pas exhaustives*\n",
    "\n",
    "<iframe src=\"http://stats4dev.com/dataviz/Bar_chart_HackFrancophonie.html\" scrolling=\"no\"  frameborder=\"0\" width=\"100%\" height=\"520px\"></iframe>"
   ]
  },
  {
   "cell_type": "markdown",
   "metadata": {
    "slideshow": {
     "slide_type": "slide"
    }
   },
   "source": [
    "## Interprétation:\n",
    "\n",
    "Ce que nous apprend cette représentation, c'est que **les distributions enseignants/population** et **enseignants/élèves ne sont pas homogènes**. \n",
    "\n",
    "Pour les **cercles d'Abeibara et Tin-Essako**, proches de Kidal, un **ratio enseignant/population très faible** (1287 habitants pour un enseignant) alors que le **nombre d'élèves par enseignant est largement en dessous de la moyenne** (i.e. 23 élèves/enseignants). Cela signifierait qu'il y a très peu d'elèves parmi la population de ces cercles.\n",
    "Ceci pourrait s'expliquer par 3 facteurs:\n",
    "+ une erreur dans les données; \n",
    "+ un taux de scolarisation très faible;\n",
    "+ un nombre très faible d'enfants par habitant dans ces cercles. \n",
    "\n",
    "La région de Kidal a été fortement touchée par la guerre ces dernières années, ce qui accréditerait les 3 hypothèses mentionnées: **difficulté de collecter des données, déscolarisation et \"mise à l'abri\" des enfants**.\n",
    "\n",
    "Les cercles de Tenenkou, Youwarou et Douentza, proches de Mopti, zone limitrophe des conflits, connaissent probablement une situation similaire dans des proportions peut être moindre."
   ]
  },
  {
   "cell_type": "markdown",
   "metadata": {
    "collapsed": false,
    "slideshow": {
     "slide_type": "slide"
    }
   },
   "source": [
    "## Mali: Cartographie des écoles, des élèves et des effectifs d'enseignants\n",
    "\n",
    "Sur cette carte nous présentons la **distribution des écoles** (*layer1*) et la **population d'élèves par cercle** (*layer2*). \n",
    "Sur le 3ème *layer* nous projetons le **déficit d'enseignants par cercle**, calculé par l'écart au nombre moyen d'enseignants par cercle. En **rouge les cercles en déficit** d'enseignants, en **bleu les cercles dans lesquels le ration élèves/enseignants est inférieur à la moyenne** (39.57 élèves par enseignants). En survolant avec la souris les Cercles, apparait l'écart à la moyenne.\n",
    "\n",
    "*NB. Pour faire apparaitre les différents layers, cliquer sur le menu 'Visible layers' en haut à droite*\n"
   ]
  },
  {
   "cell_type": "markdown",
   "metadata": {
    "slideshow": {
     "slide_type": "slide"
    }
   },
   "source": [
    "<iframe src=\"https://rocathomas.cartodb.com/viz/1c4933d0-d96c-11e5-8ad9-0e31c9be1b51/embed_map\" scrolling=\"no\"  frameborder=\"0\" width=\"100%\" height=\"575px\"></iframe>"
   ]
  },
  {
   "cell_type": "markdown",
   "metadata": {
    "slideshow": {
     "slide_type": "slide"
    }
   },
   "source": [
    "# Conclusion:\n",
    "\n",
    "L'objectif de HackFrancophonie n'était pas de fournir des recommandations politiques basées sur une analyse fine de données, réalisée en quelques heures &#9786;.\n",
    "\n",
    "Il s'agissait avant  tout d'un **moment d'échanges et de convivialité autour de la donnée**, mais surtout, de **sensibilisation à l'idée de données ouvertes et de démonstration des outils d'analyse, ouverts et gratuits,** dont nous disposons aujourd'hui (à l'image de [Python](https://www.python.org/), [CartoDB](http://www.cartodb.com) et [GitHub](https://github.com/) que nous avons utilisés).\n",
    "\n",
    "Nous avons essayé de montrer le **potentiel qu'offre l'ouverture des données pour les politiques publiques et l'information citoyenne**. Si en quelques heures nous avons été capables de partager des informations sous forme de cartes et graphiques facilement compréhensibles et à même d'éclairer un minimum l'état de la scolarisation au Mali, nous ne doutons pas qu'une équipe d'experts sur le sujet, ayant entre les mains des données fiables et un peu de temps, pourra produire des recommandations politiques utiles pour les populations.\n",
    "\n",
    "\n",
    "## <span style=\"color:#ff7b00\">Merci ! </span>\n",
    "\n",
    "\n",
    "![](http://www.stats4dev.com/img/PhotoHackathon.jpg)\n",
    "*Crédit photo:[@OpenDataBurkina](https://twitter.com/OpenDataBurkina), [@Etalab](https://twitter.com/Etalab)*\n"
   ]
  }
 ],
 "metadata": {
  "celltoolbar": "Slideshow",
  "kernelspec": {
   "display_name": "Python 3",
   "language": "python",
   "name": "python3"
  },
  "language_info": {
   "codemirror_mode": {
    "name": "ipython",
    "version": 3
   },
   "file_extension": ".py",
   "mimetype": "text/x-python",
   "name": "python",
   "nbconvert_exporter": "python",
   "pygments_lexer": "ipython3",
   "version": "3.4.2"
  }
 },
 "nbformat": 4,
 "nbformat_minor": 0
}
